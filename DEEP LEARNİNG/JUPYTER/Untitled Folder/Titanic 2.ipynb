{
 "cells": [
  {
   "cell_type": "code",
   "execution_count": 170,
   "id": "ce26ecff",
   "metadata": {},
   "outputs": [],
   "source": [
    "import pandas as pd \n",
    "import numpy as np \n",
    "import matplotlib.pyplot as plt\n",
    "import csv\n",
    "import re \n",
    "\n",
    "\n",
    "from tensorflow import keras \n",
    "from keras.models import Sequential\n",
    "from keras.layers import Dense, Activation\n",
    "from keras.callbacks import ModelCheckpoint\n",
    "from keras.optimizers import Adam"
   ]
  },
  {
   "cell_type": "code",
   "execution_count": 171,
   "id": "7239f330",
   "metadata": {},
   "outputs": [],
   "source": [
    "import os\n",
    "os.chdir(\"C:\\\\Users\\\\metec\\\\OneDrive\\\\Masaüstü\\\\Udemy_DerinOgrenmeyeGiris-master\\\\TitanicGorsellestirmeveSiniflama\")\n"
   ]
  },
  {
   "cell_type": "code",
   "execution_count": 172,
   "id": "de7c2a86",
   "metadata": {},
   "outputs": [],
   "source": [
    " def preprocess(data):\n",
    "        data.Cabin.fillna('0', inplace =True)\n",
    "        data.loc[data.Cabin.str[0] == 'A' , 'Cabin'] = 1\n",
    "        data.loc[data.Cabin.str[0] == 'B' , 'Cabin'] = 2\n",
    "        data.loc[data.Cabin.str[0] == 'C' , 'Cabin'] = 3\n",
    "        data.loc[data.Cabin.str[0] == 'D' , 'Cabin'] = 4\n",
    "        data.loc[data.Cabin.str[0] == 'E' , 'Cabin'] = 5\n",
    "        data.loc[data.Cabin.str[0] == 'F' , 'Cabin'] = 6\n",
    "        data.loc[data.Cabin.str[0] == 'G' , 'Cabin'] = 7\n",
    "        data.loc[data.Cabin.str[0] == 'T' , 'Cabin'] = 8\n",
    "        \n",
    "        data['Sex'].replace('female' , 1, inplace =True)\n",
    "        data['Sex'].replace('male' , 2, inplace =True)\n",
    "        \n",
    "        data['Embarked'].replace('S', 1, inplace=True)\n",
    "        data['Embarked'].replace('C', 2, inplace=True)\n",
    "        data['Embarked'].replace('Q', 3, inplace=True)\n",
    "        \n",
    "        data['Age'].fillna(data['Age'].median(), inplace=True)\n",
    "        data['Fare'].fillna(data['Fare'].median(), inplace=True)\n",
    "        data['Embarked'].fillna(data['Embarked'].median(), inplace=True)\n",
    "        \n",
    "        #data.dropna(subset=['Fare' , 'Embarked'], inplace=True, how='any')\n",
    "        return data \n",
    "        "
   ]
  },
  {
   "cell_type": "code",
   "execution_count": 173,
   "id": "0f842e42",
   "metadata": {},
   "outputs": [],
   "source": [
    "def group_titles(data):\n",
    "    data['Names'] = data['Name'].map(lambda x: len(re.split(' ', x)))\n",
    "    data['Title'] = data['Name'].map(lambda x: re.search(', (.+?) ',x).group(1))\n",
    "    data['Title'].replace('Master.', 0, inplace=True)\n",
    "    data['Title'].replace('Mr.', 1, inplace=True)\n",
    "    data['Title'].replace(['Ms.','Mlle.','Miss.'], 2, inplace=True)\n",
    "    data['Title'].replace(['Mme.','Mrs.'], 3, inplace=True)\n",
    "    data['Title'].replace(['Donna.', 'Lady.', 'the Countess.', 'Capt.', 'Col', 'Don.', 'Major.', 'Rev.','Sir.', 'Jonkheer.','the'], 4, inplace=True)\n",
    "\n",
    "   \n"
   ]
  },
  {
   "cell_type": "code",
   "execution_count": 174,
   "id": "eebe4554",
   "metadata": {},
   "outputs": [],
   "source": [
    "def data_subset(data):\n",
    "    features =['Pclass', 'SibSp', 'Parch','Sex', 'Names', 'Title', 'Age', 'Cabin' ]\n",
    "    lenght_features = len(features)\n",
    "    subset=data[features]#.fillna(0)\n",
    "    return subset, lengh_features \n",
    "    "
   ]
  },
  {
   "cell_type": "code",
   "execution_count": 175,
   "id": "8911b69d",
   "metadata": {},
   "outputs": [],
   "source": [
    "#modelin tasarlandığı fonksiyon\n",
    "def create_model(train_set_size , input_length , num_epochs , batch_size):\n",
    "    model = Sequential()\n",
    "    model.add(Dense(7, input_dim=input_length, activation = 'softplus'))\n",
    "    model.add(Dense(3,activation='softplus'))\n",
    "    model.add(Dense(1,activation='softplus'))\n",
    "    \n",
    "    lr = .001\n",
    "    adam0 = Adam(lr = lr)\n",
    "    \n",
    "    model.compile(loss ='binary_crossentropy', optimizer = adam0, metrics=['accuracy'])\n",
    "    filepath ='weights.best.hdf5'\n",
    "    checkpoint = ModelCheckpoint(filepath, monitor='acc', verbose=1, save_best_only=True, mode='max')\n",
    "    callbacks_list =[checkpoint]\n",
    "    \n",
    "    history_model = model.fit(X_train[:train_set_size], Y_train[:train_set_size], callbacks=callbacks_list, epochs= num_epochs, batch_size=batch_size, verbose=0)\n",
    "    return model, history_model\n",
    "\n",
    "def plots(history):\n",
    "    loss_history = history.history['loss']\n",
    "    acc_history = history.history['acc']\n",
    "    epochs = [(i + 1) for i in range(num_epochs)]\n",
    "    \n",
    "    ax = plt.subplot(211)\n",
    "    ax = plot(epochs, loss_history, color = 'red')\n",
    "    ax.set_xlabel('Epochs')\n",
    "    ax.set_ylabel('Error Rate\\n')\n",
    "    ax.set_title('Error Rate per Epoch\\n')\n",
    "    \n",
    "    ax2 = plt.subplot(212)\n",
    "    ax2.plot(epoch, acc_history, color = 'blue')\n",
    "    ax2.set_xlabel('Epochs')\n",
    "    ax2.set_ylabel('Accuracy\\n')\n",
    "    ax2.set_title('Accuracy per Epoch\\n')\n",
    "    \n",
    "    plt.subplot_adjust(hspace=0.8)\n",
    "    plt.savefig('Accuracy_loss.png')\n",
    "    plt.close()"
   ]
  },
  {
   "cell_type": "code",
   "execution_count": 176,
   "id": "76e3fa15",
   "metadata": {},
   "outputs": [],
   "source": [
    "def test(batch_size):\n",
    "    test=pd.read_csv('test.csv',header=0)\n",
    "    test_ids =test['PassenderId']\n",
    "    test = preprocess(test)\n",
    "    group_titles(test)\n",
    "    testdata, _ = data_subset(test)\n",
    "    \n",
    "    X_test = np.array(testdata).astype(float)\n",
    "    \n",
    "    output = model.predict(X_test,batch_size=bacth_size,verbose = 0)\n",
    "    output = output.reshape((418,))\n",
    "    \n",
    "    colum_1 = np.concatenate((['PassengerId'], test_ids), axis = 0)\n",
    "    colum_2 = np.concatenate((['Survived'], output), axis = 0)\n",
    "    \n",
    "    f = open(\"output.csv\", \"w\")\n",
    "    writer = csv.writer(f)\n",
    "    for i in range(len(colum_1)):\n",
    "        writer.writerow( [colum_1[i]] + [colum_2[i]])\n",
    "        f.close()"
   ]
  },
  {
   "cell_type": "code",
   "execution_count": 177,
   "id": "17f70027",
   "metadata": {
    "scrolled": true
   },
   "outputs": [
    {
     "name": "stderr",
     "output_type": "stream",
     "text": [
      "C:\\Users\\metec\\anaconda3\\lib\\site-packages\\numpy\\lib\\nanfunctions.py:1215: RuntimeWarning: Mean of empty slice\n",
      "  return np.nanmean(a, axis, out=out, keepdims=keepdims)\n",
      "C:\\Users\\metec\\anaconda3\\lib\\site-packages\\numpy\\lib\\nanfunctions.py:1215: RuntimeWarning: Mean of empty slice\n",
      "  return np.nanmean(a, axis, out=out, keepdims=keepdims)\n",
      "C:\\Users\\metec\\anaconda3\\lib\\site-packages\\numpy\\lib\\nanfunctions.py:1215: RuntimeWarning: Mean of empty slice\n",
      "  return np.nanmean(a, axis, out=out, keepdims=keepdims)\n"
     ]
    },
    {
     "ename": "TypeError",
     "evalue": "expected string or bytes-like object",
     "output_type": "error",
     "traceback": [
      "\u001b[1;31m---------------------------------------------------------------------------\u001b[0m",
      "\u001b[1;31mTypeError\u001b[0m                                 Traceback (most recent call last)",
      "Cell \u001b[1;32mIn[177], line 7\u001b[0m\n\u001b[0;32m      4\u001b[0m train \u001b[38;5;241m=\u001b[39m pd\u001b[38;5;241m.\u001b[39mread_csv(\u001b[38;5;124m'\u001b[39m\u001b[38;5;124mtrain.csv\u001b[39m\u001b[38;5;124m'\u001b[39m, header\u001b[38;5;241m=\u001b[39m\u001b[38;5;241m0\u001b[39m)\n\u001b[0;32m      6\u001b[0m preprocess(train)\n\u001b[1;32m----> 7\u001b[0m \u001b[43mgroup_titles\u001b[49m\u001b[43m(\u001b[49m\u001b[43mtrain\u001b[49m\u001b[43m)\u001b[49m\n\u001b[0;32m      9\u001b[0m num_epochs \u001b[38;5;241m=\u001b[39m \u001b[38;5;241m100\u001b[39m\n\u001b[0;32m     10\u001b[0m batch_size \u001b[38;5;241m=\u001b[39m \u001b[38;5;241m32\u001b[39m\n",
      "Cell \u001b[1;32mIn[173], line 2\u001b[0m, in \u001b[0;36mgroup_titles\u001b[1;34m(data)\u001b[0m\n\u001b[0;32m      1\u001b[0m \u001b[38;5;28;01mdef\u001b[39;00m \u001b[38;5;21mgroup_titles\u001b[39m(data):\n\u001b[1;32m----> 2\u001b[0m     data[\u001b[38;5;124m'\u001b[39m\u001b[38;5;124mNames\u001b[39m\u001b[38;5;124m'\u001b[39m] \u001b[38;5;241m=\u001b[39m \u001b[43mdata\u001b[49m\u001b[43m[\u001b[49m\u001b[38;5;124;43m'\u001b[39;49m\u001b[38;5;124;43mName\u001b[39;49m\u001b[38;5;124;43m'\u001b[39;49m\u001b[43m]\u001b[49m\u001b[38;5;241;43m.\u001b[39;49m\u001b[43mmap\u001b[49m\u001b[43m(\u001b[49m\u001b[38;5;28;43;01mlambda\u001b[39;49;00m\u001b[43m \u001b[49m\u001b[43mx\u001b[49m\u001b[43m:\u001b[49m\u001b[43m \u001b[49m\u001b[38;5;28;43mlen\u001b[39;49m\u001b[43m(\u001b[49m\u001b[43mre\u001b[49m\u001b[38;5;241;43m.\u001b[39;49m\u001b[43msplit\u001b[49m\u001b[43m(\u001b[49m\u001b[38;5;124;43m'\u001b[39;49m\u001b[38;5;124;43m \u001b[39;49m\u001b[38;5;124;43m'\u001b[39;49m\u001b[43m,\u001b[49m\u001b[43m \u001b[49m\u001b[43mx\u001b[49m\u001b[43m)\u001b[49m\u001b[43m)\u001b[49m\u001b[43m)\u001b[49m\n\u001b[0;32m      3\u001b[0m     data[\u001b[38;5;124m'\u001b[39m\u001b[38;5;124mTitle\u001b[39m\u001b[38;5;124m'\u001b[39m] \u001b[38;5;241m=\u001b[39m data[\u001b[38;5;124m'\u001b[39m\u001b[38;5;124mName\u001b[39m\u001b[38;5;124m'\u001b[39m]\u001b[38;5;241m.\u001b[39mmap(\u001b[38;5;28;01mlambda\u001b[39;00m x: re\u001b[38;5;241m.\u001b[39msearch(\u001b[38;5;124m'\u001b[39m\u001b[38;5;124m, (.+?) \u001b[39m\u001b[38;5;124m'\u001b[39m,x)\u001b[38;5;241m.\u001b[39mgroup(\u001b[38;5;241m1\u001b[39m))\n\u001b[0;32m      4\u001b[0m     data[\u001b[38;5;124m'\u001b[39m\u001b[38;5;124mTitle\u001b[39m\u001b[38;5;124m'\u001b[39m]\u001b[38;5;241m.\u001b[39mreplace(\u001b[38;5;124m'\u001b[39m\u001b[38;5;124mMaster.\u001b[39m\u001b[38;5;124m'\u001b[39m, \u001b[38;5;241m0\u001b[39m, inplace\u001b[38;5;241m=\u001b[39m\u001b[38;5;28;01mTrue\u001b[39;00m)\n",
      "File \u001b[1;32m~\\anaconda3\\lib\\site-packages\\pandas\\core\\series.py:4539\u001b[0m, in \u001b[0;36mSeries.map\u001b[1;34m(self, arg, na_action)\u001b[0m\n\u001b[0;32m   4460\u001b[0m \u001b[38;5;28;01mdef\u001b[39;00m \u001b[38;5;21mmap\u001b[39m(\n\u001b[0;32m   4461\u001b[0m     \u001b[38;5;28mself\u001b[39m,\n\u001b[0;32m   4462\u001b[0m     arg: Callable \u001b[38;5;241m|\u001b[39m Mapping \u001b[38;5;241m|\u001b[39m Series,\n\u001b[0;32m   4463\u001b[0m     na_action: Literal[\u001b[38;5;124m\"\u001b[39m\u001b[38;5;124mignore\u001b[39m\u001b[38;5;124m\"\u001b[39m] \u001b[38;5;241m|\u001b[39m \u001b[38;5;28;01mNone\u001b[39;00m \u001b[38;5;241m=\u001b[39m \u001b[38;5;28;01mNone\u001b[39;00m,\n\u001b[0;32m   4464\u001b[0m ) \u001b[38;5;241m-\u001b[39m\u001b[38;5;241m>\u001b[39m Series:\n\u001b[0;32m   4465\u001b[0m     \u001b[38;5;124;03m\"\"\"\u001b[39;00m\n\u001b[0;32m   4466\u001b[0m \u001b[38;5;124;03m    Map values of Series according to an input mapping or function.\u001b[39;00m\n\u001b[0;32m   4467\u001b[0m \n\u001b[1;32m   (...)\u001b[0m\n\u001b[0;32m   4537\u001b[0m \u001b[38;5;124;03m    dtype: object\u001b[39;00m\n\u001b[0;32m   4538\u001b[0m \u001b[38;5;124;03m    \"\"\"\u001b[39;00m\n\u001b[1;32m-> 4539\u001b[0m     new_values \u001b[38;5;241m=\u001b[39m \u001b[38;5;28;43mself\u001b[39;49m\u001b[38;5;241;43m.\u001b[39;49m\u001b[43m_map_values\u001b[49m\u001b[43m(\u001b[49m\u001b[43marg\u001b[49m\u001b[43m,\u001b[49m\u001b[43m \u001b[49m\u001b[43mna_action\u001b[49m\u001b[38;5;241;43m=\u001b[39;49m\u001b[43mna_action\u001b[49m\u001b[43m)\u001b[49m\n\u001b[0;32m   4540\u001b[0m     \u001b[38;5;28;01mreturn\u001b[39;00m \u001b[38;5;28mself\u001b[39m\u001b[38;5;241m.\u001b[39m_constructor(new_values, index\u001b[38;5;241m=\u001b[39m\u001b[38;5;28mself\u001b[39m\u001b[38;5;241m.\u001b[39mindex)\u001b[38;5;241m.\u001b[39m__finalize__(\n\u001b[0;32m   4541\u001b[0m         \u001b[38;5;28mself\u001b[39m, method\u001b[38;5;241m=\u001b[39m\u001b[38;5;124m\"\u001b[39m\u001b[38;5;124mmap\u001b[39m\u001b[38;5;124m\"\u001b[39m\n\u001b[0;32m   4542\u001b[0m     )\n",
      "File \u001b[1;32m~\\anaconda3\\lib\\site-packages\\pandas\\core\\base.py:890\u001b[0m, in \u001b[0;36mIndexOpsMixin._map_values\u001b[1;34m(self, mapper, na_action)\u001b[0m\n\u001b[0;32m    887\u001b[0m         \u001b[38;5;28;01mraise\u001b[39;00m \u001b[38;5;167;01mValueError\u001b[39;00m(msg)\n\u001b[0;32m    889\u001b[0m \u001b[38;5;66;03m# mapper is a function\u001b[39;00m\n\u001b[1;32m--> 890\u001b[0m new_values \u001b[38;5;241m=\u001b[39m \u001b[43mmap_f\u001b[49m\u001b[43m(\u001b[49m\u001b[43mvalues\u001b[49m\u001b[43m,\u001b[49m\u001b[43m \u001b[49m\u001b[43mmapper\u001b[49m\u001b[43m)\u001b[49m\n\u001b[0;32m    892\u001b[0m \u001b[38;5;28;01mreturn\u001b[39;00m new_values\n",
      "File \u001b[1;32m~\\anaconda3\\lib\\site-packages\\pandas\\_libs\\lib.pyx:2924\u001b[0m, in \u001b[0;36mpandas._libs.lib.map_infer\u001b[1;34m()\u001b[0m\n",
      "Cell \u001b[1;32mIn[173], line 2\u001b[0m, in \u001b[0;36mgroup_titles.<locals>.<lambda>\u001b[1;34m(x)\u001b[0m\n\u001b[0;32m      1\u001b[0m \u001b[38;5;28;01mdef\u001b[39;00m \u001b[38;5;21mgroup_titles\u001b[39m(data):\n\u001b[1;32m----> 2\u001b[0m     data[\u001b[38;5;124m'\u001b[39m\u001b[38;5;124mNames\u001b[39m\u001b[38;5;124m'\u001b[39m] \u001b[38;5;241m=\u001b[39m data[\u001b[38;5;124m'\u001b[39m\u001b[38;5;124mName\u001b[39m\u001b[38;5;124m'\u001b[39m]\u001b[38;5;241m.\u001b[39mmap(\u001b[38;5;28;01mlambda\u001b[39;00m x: \u001b[38;5;28mlen\u001b[39m(\u001b[43mre\u001b[49m\u001b[38;5;241;43m.\u001b[39;49m\u001b[43msplit\u001b[49m\u001b[43m(\u001b[49m\u001b[38;5;124;43m'\u001b[39;49m\u001b[38;5;124;43m \u001b[39;49m\u001b[38;5;124;43m'\u001b[39;49m\u001b[43m,\u001b[49m\u001b[43m \u001b[49m\u001b[43mx\u001b[49m\u001b[43m)\u001b[49m))\n\u001b[0;32m      3\u001b[0m     data[\u001b[38;5;124m'\u001b[39m\u001b[38;5;124mTitle\u001b[39m\u001b[38;5;124m'\u001b[39m] \u001b[38;5;241m=\u001b[39m data[\u001b[38;5;124m'\u001b[39m\u001b[38;5;124mName\u001b[39m\u001b[38;5;124m'\u001b[39m]\u001b[38;5;241m.\u001b[39mmap(\u001b[38;5;28;01mlambda\u001b[39;00m x: re\u001b[38;5;241m.\u001b[39msearch(\u001b[38;5;124m'\u001b[39m\u001b[38;5;124m, (.+?) \u001b[39m\u001b[38;5;124m'\u001b[39m,x)\u001b[38;5;241m.\u001b[39mgroup(\u001b[38;5;241m1\u001b[39m))\n\u001b[0;32m      4\u001b[0m     data[\u001b[38;5;124m'\u001b[39m\u001b[38;5;124mTitle\u001b[39m\u001b[38;5;124m'\u001b[39m]\u001b[38;5;241m.\u001b[39mreplace(\u001b[38;5;124m'\u001b[39m\u001b[38;5;124mMaster.\u001b[39m\u001b[38;5;124m'\u001b[39m, \u001b[38;5;241m0\u001b[39m, inplace\u001b[38;5;241m=\u001b[39m\u001b[38;5;28;01mTrue\u001b[39;00m)\n",
      "File \u001b[1;32m~\\anaconda3\\lib\\re.py:231\u001b[0m, in \u001b[0;36msplit\u001b[1;34m(pattern, string, maxsplit, flags)\u001b[0m\n\u001b[0;32m    223\u001b[0m \u001b[38;5;28;01mdef\u001b[39;00m \u001b[38;5;21msplit\u001b[39m(pattern, string, maxsplit\u001b[38;5;241m=\u001b[39m\u001b[38;5;241m0\u001b[39m, flags\u001b[38;5;241m=\u001b[39m\u001b[38;5;241m0\u001b[39m):\n\u001b[0;32m    224\u001b[0m     \u001b[38;5;124;03m\"\"\"Split the source string by the occurrences of the pattern,\u001b[39;00m\n\u001b[0;32m    225\u001b[0m \u001b[38;5;124;03m    returning a list containing the resulting substrings.  If\u001b[39;00m\n\u001b[0;32m    226\u001b[0m \u001b[38;5;124;03m    capturing parentheses are used in pattern, then the text of all\u001b[39;00m\n\u001b[1;32m   (...)\u001b[0m\n\u001b[0;32m    229\u001b[0m \u001b[38;5;124;03m    and the remainder of the string is returned as the final element\u001b[39;00m\n\u001b[0;32m    230\u001b[0m \u001b[38;5;124;03m    of the list.\"\"\"\u001b[39;00m\n\u001b[1;32m--> 231\u001b[0m     \u001b[38;5;28;01mreturn\u001b[39;00m \u001b[43m_compile\u001b[49m\u001b[43m(\u001b[49m\u001b[43mpattern\u001b[49m\u001b[43m,\u001b[49m\u001b[43m \u001b[49m\u001b[43mflags\u001b[49m\u001b[43m)\u001b[49m\u001b[38;5;241;43m.\u001b[39;49m\u001b[43msplit\u001b[49m\u001b[43m(\u001b[49m\u001b[43mstring\u001b[49m\u001b[43m,\u001b[49m\u001b[43m \u001b[49m\u001b[43mmaxsplit\u001b[49m\u001b[43m)\u001b[49m\n",
      "\u001b[1;31mTypeError\u001b[0m: expected string or bytes-like object"
     ]
    }
   ],
   "source": [
    "seed  = 7\n",
    "np.random.seed(seed)\n",
    "\n",
    "train = pd.read_csv('train.csv', header=0)\n",
    "\n",
    "preprocess(train)\n",
    "group_titles(train)\n",
    "\n",
    "num_epochs = 100\n",
    "batch_size = 32\n",
    "\n",
    "traindata, lengh_features =data_subset(train)\n",
    "\n",
    "Y_train = np.array(train['Survived']).astype(int)\n",
    "X_train = np.array(traindata).astype(float)\n",
    "\n",
    "train_set_size = int(.67 * len(X_train))\n",
    "\n",
    "model, history_model = create_model(train_set_size , lengh_features, num_epochs, batch_size)\n",
    "\n",
    "plots(history_model)\n",
    "\n",
    "X_validation = X_train[train_set_size:]\n",
    "Y_validation = Y_train[train_set_size:]\n",
    "    \n",
    "loss_and_metrics = model.evaluate(X_validation, Y_validation, batch_size=batch_size) \n",
    "print(\"loss_and_metrics\")\n",
    "\n",
    "test(batch_size)"
   ]
  },
  {
   "cell_type": "code",
   "execution_count": null,
   "id": "e5c6cda9",
   "metadata": {},
   "outputs": [],
   "source": []
  },
  {
   "cell_type": "code",
   "execution_count": null,
   "id": "2e334190",
   "metadata": {},
   "outputs": [],
   "source": []
  }
 ],
 "metadata": {
  "kernelspec": {
   "display_name": "Python 3 (ipykernel)",
   "language": "python",
   "name": "python3"
  },
  "language_info": {
   "codemirror_mode": {
    "name": "ipython",
    "version": 3
   },
   "file_extension": ".py",
   "mimetype": "text/x-python",
   "name": "python",
   "nbconvert_exporter": "python",
   "pygments_lexer": "ipython3",
   "version": "3.9.16"
  }
 },
 "nbformat": 4,
 "nbformat_minor": 5
}
