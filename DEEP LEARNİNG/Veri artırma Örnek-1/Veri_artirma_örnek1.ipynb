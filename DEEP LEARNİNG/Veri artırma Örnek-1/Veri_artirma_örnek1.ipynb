{
 "cells": [
  {
   "cell_type": "code",
   "execution_count": 25,
   "id": "27dde81a",
   "metadata": {},
   "outputs": [],
   "source": [
    "import os \n",
    "os.chdir(\"C:/Users/metec/OneDrive/Masaüstü/Udemy_DerinOgrenmeyeGiris-master/\")"
   ]
  },
  {
   "cell_type": "code",
   "execution_count": 18,
   "id": "76dfc892",
   "metadata": {},
   "outputs": [],
   "source": [
    "\n",
    "from keras.preprocessing.image import ImageDataGenerator\n",
    "from tensorflow.keras.utils import load_img\n",
    "from tensorflow.keras.utils import array_to_img\n",
    "from tensorflow.keras.utils import img_to_array\n"
   ]
  },
  {
   "cell_type": "code",
   "execution_count": 19,
   "id": "e59f8622",
   "metadata": {},
   "outputs": [],
   "source": [
    "datagen = ImageDataGenerator(rotation_range=40,\n",
    "                            width_shift_range=0.2,\n",
    "                            height_shift_range=0.2,\n",
    "                            shear_range=0.2,\n",
    "                            zoom_range=0.2,\n",
    "                            horizontal_flip=True,\n",
    "                            vertical_flip=True,\n",
    "                            fill_mode='nearest')"
   ]
  },
  {
   "cell_type": "code",
   "execution_count": 30,
   "id": "e5e28a9a",
   "metadata": {},
   "outputs": [],
   "source": [
    "img = load_img('C:/Users/metec/OneDrive/Masaüstü/Udemy_DerinOgrenmeyeGiris-master/RegularizasyonveOptimizasyon/araguler.jpg')\n",
    "x = img_to_array(img)\n",
    "x = x.reshape((1,)+x.shape)\n",
    "\n",
    "i = 0\n",
    "for batch in datagen.flow(x, batch_size=1,\n",
    "                         save_to_dir='C:/Users/metec/OneDrive/Masaüstü/Udemy_DerinOgrenmeyeGiris-master/RegularizasyonveOptimizasyon/Artirilmis_veri',\n",
    "                         save_format='jpeg'):\n",
    "    i+=1\n",
    "    if i>50:\n",
    "        break\n",
    "    "
   ]
  },
  {
   "cell_type": "code",
   "execution_count": 31,
   "id": "bdd6cf54",
   "metadata": {},
   "outputs": [],
   "source": [
    "img = load_img('C:/Users/metec/OneDrive/Masaüstü/Udemy_DerinOgrenmeyeGiris-master/RegularizasyonveOptimizasyon/ChetBaker.jpg')\n",
    "x = img_to_array(img)\n",
    "x = x.reshape((1,)+x.shape)\n",
    "\n",
    "i = 0\n",
    "for batch in datagen.flow(x, batch_size=1,\n",
    "                         save_to_dir='C:/Users/metec/OneDrive/Masaüstü/Udemy_DerinOgrenmeyeGiris-master/RegularizasyonveOptimizasyon/Artirilmis_veri',\n",
    "                         save_format='jpeg'):\n",
    "    i+=1\n",
    "    if i>50:\n",
    "        break"
   ]
  },
  {
   "cell_type": "code",
   "execution_count": null,
   "id": "340ac804",
   "metadata": {},
   "outputs": [],
   "source": []
  }
 ],
 "metadata": {
  "kernelspec": {
   "display_name": "Python 3 (ipykernel)",
   "language": "python",
   "name": "python3"
  },
  "language_info": {
   "codemirror_mode": {
    "name": "ipython",
    "version": 3
   },
   "file_extension": ".py",
   "mimetype": "text/x-python",
   "name": "python",
   "nbconvert_exporter": "python",
   "pygments_lexer": "ipython3",
   "version": "3.9.13"
  }
 },
 "nbformat": 4,
 "nbformat_minor": 5
}
